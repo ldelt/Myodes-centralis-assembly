{
  "cells": [
    {
      "cell_type": "markdown",
      "source": [
        "## Mount GoogleDrive"
      ],
      "metadata": {
        "id": "p9Mq1sB2Vmeb"
      }
    },
    {
      "cell_type": "code",
      "execution_count": null,
      "metadata": {
        "colab": {
          "base_uri": "https://localhost:8080/"
        },
        "id": "CWDFYXDz8S7Q",
        "outputId": "f21711ab-d686-428b-a6ee-10f5beb13e1d"
      },
      "outputs": [
        {
          "output_type": "stream",
          "name": "stdout",
          "text": [
            "Mounted at /content/gdrive\n"
          ]
        }
      ],
      "source": [
        "from google.colab import drive\n",
        "drive.mount('/content/gdrive', force_remount=True)"
      ]
    },
    {
      "cell_type": "markdown",
      "source": [
        "## Download Guppy"
      ],
      "metadata": {
        "id": "FS_n5R2iVuY3"
      }
    },
    {
      "cell_type": "code",
      "execution_count": null,
      "metadata": {
        "id": "zsPMCgTf8h02",
        "colab": {
          "base_uri": "https://localhost:8080/"
        },
        "outputId": "1d69a3e6-ec83-4bbf-a430-84b11420e893"
      },
      "outputs": [
        {
          "output_type": "stream",
          "name": "stdout",
          "text": [
            "--2023-05-11 12:48:11--  https://cdn.oxfordnanoportal.com/software/analysis/ont-guppy_6.4.2_linux64.tar.gz\n",
            "Resolving cdn.oxfordnanoportal.com (cdn.oxfordnanoportal.com)... 108.138.94.29, 108.138.94.114, 108.138.94.96, ...\n",
            "Connecting to cdn.oxfordnanoportal.com (cdn.oxfordnanoportal.com)|108.138.94.29|:443... connected.\n",
            "HTTP request sent, awaiting response... 200 OK\n",
            "Length: 1669334522 (1.6G) [application/x-tar]\n",
            "Saving to: ‘ont-guppy_6.4.2_linux64.tar.gz’\n",
            "\n",
            "ont-guppy_6.4.2_lin 100%[===================>]   1.55G  32.1MB/s    in 51s     \n",
            "\n",
            "2023-05-11 12:49:03 (31.3 MB/s) - ‘ont-guppy_6.4.2_linux64.tar.gz’ saved [1669334522/1669334522]\n",
            "\n"
          ]
        }
      ],
      "source": [
        "!wget url_to_download_guppy_GPU_6.4.2"
      ]
    },
    {
      "cell_type": "markdown",
      "source": [
        "## Unarchive Guppy"
      ],
      "metadata": {
        "id": "5TgR3DQWWEsW"
      }
    },
    {
      "cell_type": "code",
      "execution_count": null,
      "metadata": {
        "id": "b8679S508tK7"
      },
      "outputs": [],
      "source": [
        "!tar -xf ont-guppy_6.4.2_linux64.tar.gz"
      ]
    },
    {
      "cell_type": "markdown",
      "source": [
        "## Check the correctness of installation"
      ],
      "metadata": {
        "id": "ImFyiwLGWK51"
      }
    },
    {
      "cell_type": "code",
      "execution_count": null,
      "metadata": {
        "colab": {
          "base_uri": "https://localhost:8080/"
        },
        "id": "vsR7Rakb_5tW",
        "outputId": "c63d1d1e-7522-4ec6-bb19-cb4d2cef3220"
      },
      "outputs": [
        {
          "output_type": "stream",
          "name": "stdout",
          "text": [
            ": Guppy Basecalling Software, (C) Oxford Nanopore Technologies plc. Version 6.4.2+97a7f06, minimap2 version 2.24-r1122\n",
            "\n",
            "Use of this software is permitted solely under the terms of the end user license agreement (EULA).\n",
            "By running, copying or accessing this software, you are demonstrating your acceptance of the EULA.\n",
            "The EULA may be found in /content/ont-guppy/bin\n"
          ]
        }
      ],
      "source": [
        "!./ont-guppy/bin/guppy_basecaller --version"
      ]
    },
    {
      "cell_type": "markdown",
      "metadata": {
        "id": "sxuLvQITK2mv"
      },
      "source": [
        "## Start Guppy Basecalling with SUP model"
      ]
    },
    {
      "cell_type": "code",
      "execution_count": null,
      "metadata": {
        "colab": {
          "base_uri": "https://localhost:8080/"
        },
        "id": "MDFKwaCpCsyg",
        "outputId": "f0c5414b-7b8f-4911-d02b-4ff7f8909951"
      },
      "outputs": [
        {
          "output_type": "stream",
          "name": "stdout",
          "text": [
            "ONT Guppy basecalling software version 6.4.2+97a7f06, minimap2 version 2.24-r1122\n",
            "config file:        /content/ont-guppy/data/dna_r9.4.1_450bps_sup.cfg\n",
            "model file:         /content/ont-guppy/data/template_r9.4.1_450bps_sup.jsn\n",
            "input path:         /content/gdrive/MyDrive/Guppy/pass/raw_data\n",
            "save path:          /content/gdrive/MyDrive/Guppy/pass/SUP\n",
            "chunk size:         2000\n",
            "chunks per runner:  512\n",
            "minimum qscore:     10\n",
            "records per file:   4000\n",
            "num basecallers:    4\n",
            "gpu device:         auto\n",
            "kernel path:        \n",
            "runners per device: 16\n",
            "\n",
            "Use of this software is permitted solely under the terms of the end user license agreement (EULA).\n",
            "By running, copying or accessing this software, you are demonstrating your acceptance of the EULA.\n",
            "The EULA may be found in /content/ont-guppy/bin\n",
            "Found 16 input read files to process.\n",
            "Init time: 2569 ms\n",
            "\n",
            "0%   10   20   30   40   50   60   70   80   90   100%\n",
            "|----|----|----|----|----|----|----|----|----|----|\n",
            "***************************************************\n",
            "Caller time: 580226 ms, Samples called: 748477611, samples/s: 1.28998e+06\n",
            "Finishing up any open output files.\n",
            "Basecalling completed successfully.\n"
          ]
        }
      ],
      "source": [
        "!./ont-guppy/bin/guppy_basecaller -i /content/gdrive/MyDrive/Guppy/pass/raw_data -s /content/gdrive/MyDrive/Guppy/pass/SUP -c dna_r9.4.1_450bps_sup.cfg --device auto --recursive --gpu_runners_per_device 16 --cpu_threads_per_caller 2 --chunks_per_runner 512 "
      ]
    }
  ],
  "metadata": {
    "accelerator": "GPU",
    "colab": {
      "provenance": [],
      "gpuType": "T4"
    },
    "gpuClass": "standard",
    "kernelspec": {
      "display_name": "Python 3",
      "name": "python3"
    },
    "language_info": {
      "name": "python"
    }
  },
  "nbformat": 4,
  "nbformat_minor": 0
}