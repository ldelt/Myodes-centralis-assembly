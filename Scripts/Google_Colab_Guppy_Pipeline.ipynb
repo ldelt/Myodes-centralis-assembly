{
  "cells": [
    {
      "cell_type": "markdown",
      "source": [
        "## Mount GoogleDrive"
      ],
      "metadata": {
        "id": "p9Mq1sB2Vmeb"
      }
    },
    {
      "cell_type": "code",
      "execution_count": null,
      "metadata": {
        "id": "CWDFYXDz8S7Q"
      },
      "outputs": [],
      "source": [
        "from google.colab import drive\n",
        "drive.mount('/content/gdrive', force_remount=True)"
      ]
    },
    {
      "cell_type": "markdown",
      "source": [
        "## Download Guppy"
      ],
      "metadata": {
        "id": "FS_n5R2iVuY3"
      }
    },
    {
      "cell_type": "code",
      "execution_count": null,
      "metadata": {
        "id": "zsPMCgTf8h02"
      },
      "outputs": [],
      "source": [
        "!wget url_to_download_guppy_GPU_6.4.2"
      ]
    },
    {
      "cell_type": "markdown",
      "source": [
        "## Unarchive Guppy"
      ],
      "metadata": {
        "id": "5TgR3DQWWEsW"
      }
    },
    {
      "cell_type": "code",
      "execution_count": null,
      "metadata": {
        "id": "b8679S508tK7"
      },
      "outputs": [],
      "source": [
        "!tar -xf ont-guppy_6.4.2_linux64.tar.gz"
      ]
    },
    {
      "cell_type": "markdown",
      "source": [
        "## Check the correctness of installation"
      ],
      "metadata": {
        "id": "ImFyiwLGWK51"
      }
    },
    {
      "cell_type": "code",
      "execution_count": null,
      "metadata": {
        "id": "vsR7Rakb_5tW"
      },
      "outputs": [],
      "source": [
        "!./ont-guppy/bin/guppy_basecaller --version"
      ]
    },
    {
      "cell_type": "markdown",
      "metadata": {
        "id": "sxuLvQITK2mv"
      },
      "source": [
        "## Start Guppy Basecalling with SUP model"
      ]
    },
    {
      "cell_type": "code",
      "execution_count": null,
      "metadata": {
        "id": "MDFKwaCpCsyg"
      },
      "outputs": [],
      "source": [
        "!./ont-guppy/bin/guppy_basecaller -i /content/gdrive/MyDrive/Guppy/pass/raw_data -s /content/gdrive/MyDrive/Guppy/pass/SUP -c dna_r9.4.1_450bps_sup.cfg --device auto --recursive --gpu_runners_per_device 16 --cpu_threads_per_caller 2 --chunks_per_runner 512 "
      ]
    }
  ],
  "metadata": {
    "accelerator": "GPU",
    "colab": {
      "provenance": [],
      "gpuType": "T4"
    },
    "gpuClass": "standard",
    "kernelspec": {
      "display_name": "Python 3",
      "name": "python3"
    },
    "language_info": {
      "name": "python"
    }
  },
  "nbformat": 4,
  "nbformat_minor": 0
}